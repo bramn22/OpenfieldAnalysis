{
 "cells": [
  {
   "cell_type": "code",
   "execution_count": null,
   "metadata": {},
   "outputs": [],
   "source": [
    "import numpy as np\n",
    "from data import data_video, data_deeplabcut, dataset_opto\n",
    "from utils import utils\n",
    "import analysis\n",
    "import measures\n",
    "import partial_procrustes_superimposition as pps\n",
    "import SSM\n",
    "import os\n",
    "import pandas as pd\n",
    "import matplotlib.pyplot as plt\n",
    "import math\n",
    "import matplotlib.cm as cm\n",
    "import pickle\n",
    "import seaborn as sb\n",
    "import project\n",
    "\n",
    "sb.set()"
   ]
  },
  {
   "cell_type": "code",
   "execution_count": null,
   "metadata": {},
   "outputs": [],
   "source": [
    "project_path = r'E:\\dlc\\OpenfieldOpto'\n",
    "cfg = project.load_project(project_path)\n",
    "\n",
    "analysis_path = os.path.join(project_path, 'analysis', 'smooth')"
   ]
  },
  {
   "cell_type": "code",
   "execution_count": null,
   "metadata": {},
   "outputs": [],
   "source": [
    "dataset = dataset_opto.DatasetOpto(cfg=cfg)"
   ]
  },
  {
   "cell_type": "markdown",
   "metadata": {},
   "source": [
    "## Create/load project"
   ]
  },
  {
   "cell_type": "code",
   "execution_count": null,
   "metadata": {},
   "outputs": [],
   "source": [
    "# project_path = project.create_project(project_path)\n",
    "project_path = r'E:\\dlc\\OpenfieldOpto'\n",
    "cfg = project.load_project(project_path)\n",
    "\n",
    "analysis_path = os.path.join(project_path, 'analysis', 'smooth')"
   ]
  },
  {
   "cell_type": "code",
   "execution_count": null,
   "metadata": {},
   "outputs": [],
   "source": [
    "dataset = dataset_opto.DatasetOpto(cfg=cfg)"
   ]
  },
  {
   "cell_type": "markdown",
   "metadata": {},
   "source": [
    "## Choose/calculate reference pose"
   ]
  },
  {
   "cell_type": "code",
   "execution_count": null,
   "metadata": {},
   "outputs": [],
   "source": [
    "# Creates folder with possible reference poses. Then fill in the reference pose of choice in the cfg.yaml file.\n",
    "# Sessions for reference poses\n",
    "session_dlc, stim_times = dataset.get_session_dlc('CONTROL', 1248, 1)\n",
    "session_df = session_dlc.df\n",
    "session_df = session_df[np.all(session_df.xs('likelihood', level=1, axis=1)>0.9, axis=1)]\n"
   ]
  },
  {
   "cell_type": "code",
   "execution_count": null,
   "metadata": {},
   "outputs": [],
   "source": [
    "session_df_transl = pps._translate_to_centroid(session_df, cfg['fit_bodyparts'], cfg['impose_bodyparts'])\n",
    "session_df_transl_rot = pps._rotate_to_xaxis(session_df_transl, cfg['impose_bodyparts'])"
   ]
  },
  {
   "cell_type": "code",
   "execution_count": null,
   "metadata": {},
   "outputs": [],
   "source": [
    "idxs = [500, 1000, 1500, 5000]\n",
    "fig, axs = plt.subplots(2, 2, figsize=(5, 5), sharex=True)\n",
    "for i, idx in enumerate(idxs):\n",
    "    axs[i//2][i%2].scatter(session_df_transl_rot.iloc[idx].xs('x', level=1, axis=0), session_df_transl_rot.iloc[idx].xs('y', level=1, axis=0))\n",
    "    axs[i//2][i%2].axis('equal')\n",
    "plt.show()"
   ]
  },
  {
   "cell_type": "code",
   "execution_count": null,
   "metadata": {},
   "outputs": [],
   "source": [
    "mean_pose = np.mean(session_df_transl_rot, axis=0)\n",
    "filename = os.path.join(cfg['project_path'], 'ref_pose.csv')\n",
    "pd.DataFrame(mean_pose).T.to_csv(filename)"
   ]
  },
  {
   "cell_type": "code",
   "execution_count": null,
   "metadata": {},
   "outputs": [],
   "source": [
    "fig, ax = plt.subplots(1, 1, figsize=(3, 3), sharex=True)\n",
    "ax.scatter(mean_pose.xs('x', level=1, axis=0), mean_pose.xs('y', level=1, axis=0))\n",
    "ax.axis('equal')\n",
    "plt.show()"
   ]
  },
  {
   "cell_type": "markdown",
   "metadata": {},
   "source": [
    "## Preprocess"
   ]
  },
  {
   "cell_type": "code",
   "execution_count": null,
   "metadata": {},
   "outputs": [],
   "source": [
    "analysis.preprocess_all(cfg, dataset, overwrite=False, detect_boxes=False)"
   ]
  },
  {
   "cell_type": "markdown",
   "metadata": {},
   "source": [
    "## Calculate measures"
   ]
  },
  {
   "cell_type": "code",
   "execution_count": null,
   "metadata": {},
   "outputs": [],
   "source": [
    "analysis.calculate_measures(cfg, dataset)"
   ]
  }
 ],
 "metadata": {
  "kernelspec": {
   "display_name": "Python 3",
   "language": "python",
   "name": "python3"
  },
  "language_info": {
   "codemirror_mode": {
    "name": "ipython",
    "version": 3
   },
   "file_extension": ".py",
   "mimetype": "text/x-python",
   "name": "python",
   "nbconvert_exporter": "python",
   "pygments_lexer": "ipython3",
   "version": "3.7.7"
  }
 },
 "nbformat": 4,
 "nbformat_minor": 4
}
